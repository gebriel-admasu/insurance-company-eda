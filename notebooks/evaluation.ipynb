{
 "cells": [
  {
   "cell_type": "code",
   "execution_count": null,
   "metadata": {},
   "outputs": [],
   "source": [
    "from scripts.evaluation import evaluate_model\n",
    "\n",
    "linear_eval = evaluate_model(linear_model, X_test, y_test)\n",
    "rf_eval = evaluate_model(rf_model, X_test, y_test)\n",
    "xgb_eval = evaluate_model(xgb_model, X_test, y_test)\n",
    "\n",
    "print(\"Linear Regression:\", linear_eval)\n",
    "print(\"Random Forest:\", rf_eval)\n",
    "print(\"XGBoost:\", xgb_eval)\n"
   ]
  }
 ],
 "metadata": {
  "kernelspec": {
   "display_name": "env",
   "language": "python",
   "name": "python3"
  },
  "language_info": {
   "name": "python",
   "version": "3.12.3"
  }
 },
 "nbformat": 4,
 "nbformat_minor": 2
}
