{
 "cells": [
  {
   "cell_type": "code",
   "execution_count": null,
   "metadata": {},
   "outputs": [],
   "source": [
    "from scripts.modeling import build_linear_regression, build_random_forest, build_xgboost\n",
    "\n",
    "linear_model = build_linear_regression(X_train, y_train)\n",
    "rf_model = build_random_forest(X_train, y_train)\n",
    "xgb_model = build_xgboost(X_train, y_train)\n"
   ]
  }
 ],
 "metadata": {
  "kernelspec": {
   "display_name": "env",
   "language": "python",
   "name": "python3"
  },
  "language_info": {
   "name": "python",
   "version": "3.12.3"
  }
 },
 "nbformat": 4,
 "nbformat_minor": 2
}
