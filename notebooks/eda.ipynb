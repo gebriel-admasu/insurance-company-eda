{
 "cells": [
  {
   "cell_type": "code",
   "execution_count": null,
   "metadata": {},
   "outputs": [],
   "source": [
    "from scripts.eda import plot_histograms, plot_bar_charts\n",
    "\n",
    "numeric_cols = ['TotalPremium', 'TotalClaims']\n",
    "categorical_cols = ['Province', 'Gender']\n",
    "\n",
    "plot_histograms(data, numeric_cols, '../outputs')\n",
    "plot_bar_charts(data, categorical_cols, '../outputs')\n"
   ]
  },
  {
   "cell_type": "code",
   "execution_count": null,
   "metadata": {},
   "outputs": [],
   "source": [
    "sns.pairplot(data[['TotalPremium', 'TotalClaims', 'ZipCode']])\n",
    "plt.show()\n"
   ]
  },
  {
   "cell_type": "code",
   "execution_count": null,
   "metadata": {},
   "outputs": [],
   "source": []
  }
 ],
 "metadata": {
  "kernelspec": {
   "display_name": "env",
   "language": "python",
   "name": "python3"
  },
  "language_info": {
   "name": "python",
   "version": "3.12.3"
  }
 },
 "nbformat": 4,
 "nbformat_minor": 2
}
