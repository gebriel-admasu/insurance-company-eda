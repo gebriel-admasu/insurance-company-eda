{
 "cells": [
  {
   "cell_type": "code",
   "execution_count": null,
   "metadata": {},
   "outputs": [],
   "source": [
    "from scripts.data_preparation import handle_missing_data, encode_categorical_data, split_data\n",
    "\n",
    "# Handle missing data\n",
    "data = handle_missing_data(data)\n",
    "\n",
    "# Encode categorical data\n",
    "categorical_cols = [\"Province\", \"Gender\", \"CoverType\"]\n",
    "data = encode_categorical_data(data, categorical_cols)\n",
    "\n",
    "# Split data\n",
    "X_train, X_test, y_train, y_test = split_data(data, target=\"TotalClaims\")\n"
   ]
  }
 ],
 "metadata": {
  "kernelspec": {
   "display_name": "env",
   "language": "python",
   "name": "python3"
  },
  "language_info": {
   "name": "python",
   "version": "3.12.3"
  }
 },
 "nbformat": 4,
 "nbformat_minor": 2
}
