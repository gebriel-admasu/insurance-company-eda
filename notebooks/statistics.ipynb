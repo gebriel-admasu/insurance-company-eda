{
 "cells": [
  {
   "cell_type": "code",
   "execution_count": null,
   "metadata": {},
   "outputs": [],
   "source": [
    "from scripts.statistics import calculate_correlation\n",
    "\n",
    "correlation, p_value = calculate_correlation(data, 'TotalPremium', 'TotalClaims')\n",
    "print(f\"Correlation: {correlation}, P-Value: {p_value}\")\n"
   ]
  },
  {
   "cell_type": "code",
   "execution_count": null,
   "metadata": {},
   "outputs": [],
   "source": [
    "from scripts.statistics import chi_square_test\n",
    "\n",
    "chi2, p = chi_square_test(data, 'Province', 'CoverType')\n",
    "print(f\"Chi-Square: {chi2}, P-Value: {p}\")\n"
   ]
  },
  {
   "cell_type": "code",
   "execution_count": null,
   "metadata": {},
   "outputs": [],
   "source": []
  }
 ],
 "metadata": {
  "kernelspec": {
   "display_name": "env",
   "language": "python",
   "name": "python3"
  },
  "language_info": {
   "name": "python",
   "version": "3.12.3"
  }
 },
 "nbformat": 4,
 "nbformat_minor": 2
}
