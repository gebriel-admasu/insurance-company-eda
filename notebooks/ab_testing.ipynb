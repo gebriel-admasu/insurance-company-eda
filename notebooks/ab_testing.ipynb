{
 "cells": [
  {
   "cell_type": "code",
   "execution_count": null,
   "metadata": {},
   "outputs": [],
   "source": [
    "from scripts.data_segmentation import create_groups\n",
    "from scripts.statistical_testing import t_test, chi_square_test\n",
    "from scripts.analysis_report import analyze_results\n"
   ]
  },
  {
   "cell_type": "code",
   "execution_count": null,
   "metadata": {},
   "outputs": [],
   "source": [
    "# Segment data\n",
    "group_a, group_b = create_groups(data, \"Province\", \"Province_A\", \"Province_B\")\n",
    "\n",
    "# Perform statistical test\n",
    "stat, p_value = t_test(group_a, group_b, \"TotalClaims\")\n",
    "\n",
    "# Analyze and interpret results\n",
    "result = analyze_results(stat, p_value)\n",
    "print(f\"T-Test Result: {result}\")\n"
   ]
  }
 ],
 "metadata": {
  "kernelspec": {
   "display_name": "env",
   "language": "python",
   "name": "python3"
  },
  "language_info": {
   "codemirror_mode": {
    "name": "ipython",
    "version": 3
   },
   "file_extension": ".py",
   "mimetype": "text/x-python",
   "name": "python",
   "nbconvert_exporter": "python",
   "pygments_lexer": "ipython3",
   "version": "3.12.3"
  }
 },
 "nbformat": 4,
 "nbformat_minor": 2
}
